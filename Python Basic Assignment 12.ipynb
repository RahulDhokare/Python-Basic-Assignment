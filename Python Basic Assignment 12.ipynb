{
 "cells": [
  {
   "cell_type": "code",
   "execution_count": null,
   "id": "5cdf526a",
   "metadata": {},
   "outputs": [],
   "source": [
    "1. In what modes should the PdfFileReader() and PdfFileWriter() File objects will be opened?"
   ]
  },
  {
   "cell_type": "code",
   "execution_count": null,
   "id": "aea65864",
   "metadata": {},
   "outputs": [],
   "source": [
    "Ans: For PdfFileReader() file objects should be opened in rb -> read binary mode, Whereas for PdfFileWriter() file objects should be opened in wb -> write binary mode."
   ]
  },
  {
   "cell_type": "code",
   "execution_count": null,
   "id": "695d3e0e",
   "metadata": {},
   "outputs": [],
   "source": [
    "2. From a PdfFileReader object, how do you get a Page object for page 5?"
   ]
  },
  {
   "cell_type": "code",
   "execution_count": null,
   "id": "916f6340",
   "metadata": {},
   "outputs": [],
   "source": [
    "Ans: PdfFileReader class provides a method called getPage(page_no) to get a page object."
   ]
  },
  {
   "cell_type": "code",
   "execution_count": null,
   "id": "c68e4299",
   "metadata": {},
   "outputs": [],
   "source": [
    "# Example \n",
    "from PyPDF2 import PdfFileReader\n",
    "pdf_reader = PdfFileReader(file_path)\n",
    "for page in pdf_reader.getNumPages():\n",
    "    pdf_reader.getPage(page)"
   ]
  },
  {
   "cell_type": "code",
   "execution_count": null,
   "id": "22df233e",
   "metadata": {},
   "outputs": [],
   "source": [
    "3. What PdfFileReader variable stores the number of pages in the PDF document?"
   ]
  },
  {
   "cell_type": "code",
   "execution_count": null,
   "id": "6aeed848",
   "metadata": {},
   "outputs": [],
   "source": [
    "Ans: getNumPages() method of PdfFileReader class stores the no pages in a PDF document"
   ]
  },
  {
   "cell_type": "code",
   "execution_count": null,
   "id": "5408c620",
   "metadata": {},
   "outputs": [],
   "source": [
    "4. If a PdfFileReader object’s PDF is encrypted with the password swordfish, what must you do before you can obtain Page objects from it?"
   ]
  },
  {
   "cell_type": "code",
   "execution_count": null,
   "id": "c629605b",
   "metadata": {},
   "outputs": [],
   "source": [
    "Ans: If a PdfFileReader object’s PDF is encrypted with the password swordfish and you're not aware of it. first read the Pdf using the PdfFileReader Class. PdfFileReader class provides a attribute called isEncrypted to check whether a pdf is encrypted or not. the method returns true if a pdf is encrypted and vice versa.\n",
    "if pdf is encrypted use the decrypt() method provided by PdfFileReader class first then try to read the contents/pages of the pdf, else PyPDF2 will raise the following error PyPDF2.utils.PdfReadError: file has not been decrypted"
   ]
  },
  {
   "cell_type": "code",
   "execution_count": null,
   "id": "b56a4592",
   "metadata": {},
   "outputs": [],
   "source": [
    "5. What methods do you use to rotate a page?"
   ]
  },
  {
   "cell_type": "code",
   "execution_count": null,
   "id": "776482b4",
   "metadata": {},
   "outputs": [],
   "source": [
    "Ans: PyPDF2 Package provides 2 methods to rotate a page:\n",
    "\n",
    "rotateClockWise() -> For Clockwise rotation\n",
    "rotateCounterClockWise() -> For Counter Clockwise rotation"
   ]
  },
  {
   "cell_type": "code",
   "execution_count": null,
   "id": "62f111aa",
   "metadata": {},
   "outputs": [],
   "source": [
    "6. What is the difference between a Run object and a Paragraph object?"
   ]
  },
  {
   "cell_type": "code",
   "execution_count": null,
   "id": "ed3a205f",
   "metadata": {},
   "outputs": [],
   "source": [
    "Ans: The structure of a document is represented by three different data types in python-Docx. \n",
    "    At the highest level, a Document object represents the entire document. The Document object contains a list of Paragraph objects for the paragraphs in the document.\n",
    "    Each of these Paragraph objects contains a list of one or more Run objects.\n",
    "\n",
    "    The text in a Word document is more than just a string. It has font, size, color, and other styling information associated with it.\n",
    "    A style in Word is a collection of these attributes. A Run object is a contiguous run of text with the same style. A new Run object is needed whenever the text style changes."
   ]
  },
  {
   "cell_type": "code",
   "execution_count": null,
   "id": "8697646a",
   "metadata": {},
   "outputs": [],
   "source": [
    "7. How do you obtain a list of Paragraph objects for a Document object that’s stored in a variable named doc?"
   ]
  },
  {
   "cell_type": "code",
   "execution_count": null,
   "id": "99f42c43",
   "metadata": {},
   "outputs": [],
   "source": [
    "# Example Program\n",
    "from docx import Document\n",
    "doc = Document(\"sample_file.docx\") # Path of the Docx file\n",
    "print(doc.paragraphs) # Prints the list of Paragraph objects for a Document\n",
    "for paragraph in doc.paragraphs:\n",
    "    print(paragraph.text) # Prints the text in the paragraph"
   ]
  },
  {
   "cell_type": "code",
   "execution_count": null,
   "id": "c512eb9f",
   "metadata": {},
   "outputs": [],
   "source": [
    "8. What type of object has bold, underline, italic, strike, and outline variables?"
   ]
  },
  {
   "cell_type": "code",
   "execution_count": null,
   "id": "0d57fc77",
   "metadata": {},
   "outputs": [],
   "source": [
    "Ans: Run object has bold, underline, italic, strike, and outline variables. The text in a Word document is more than just a string. It has font, size, color, and other styling information associated with it.\n",
    "\n",
    "A style in Word is a collection of these attributes. A Run object is a contiguous run of text with the same style. A new Run object is needed whenever the text style changes."
   ]
  },
  {
   "cell_type": "code",
   "execution_count": null,
   "id": "13d84145",
   "metadata": {},
   "outputs": [],
   "source": [
    "9. What is the difference between False, True, and None for the bold variable?"
   ]
  },
  {
   "cell_type": "code",
   "execution_count": null,
   "id": "af628385",
   "metadata": {},
   "outputs": [],
   "source": [
    "bold = True  # Style Set to Bold\n",
    "bold = False # Style Not Set to Bold\n",
    "bold = None # Style is Not Applicable"
   ]
  },
  {
   "cell_type": "code",
   "execution_count": null,
   "id": "22943d40",
   "metadata": {},
   "outputs": [],
   "source": [
    "10. How do you create a Document object for a new Word document?"
   ]
  },
  {
   "cell_type": "code",
   "execution_count": null,
   "id": "b4e5e4f8",
   "metadata": {},
   "outputs": [],
   "source": [
    "# Example Program\n",
    "from docx import Document\n",
    "document = Document()\n",
    "document.add_paragraph(\"iNeuron Full Stack DataScience Course\")\n",
    "document.save('mydocument.docx')"
   ]
  },
  {
   "cell_type": "code",
   "execution_count": null,
   "id": "27f130cb",
   "metadata": {},
   "outputs": [],
   "source": [
    "11. How do you add a paragraph with the text 'Hello, there!' to a Document object stored in a variable named doc?"
   ]
  },
  {
   "cell_type": "code",
   "execution_count": null,
   "id": "9806d51c",
   "metadata": {},
   "outputs": [],
   "source": [
    "# Example Program\n",
    "from docx import Document\n",
    "doc = Document()\n",
    "doc.add_paragraph('Hello, there!')\n",
    "doc.save('hello.docx')"
   ]
  },
  {
   "cell_type": "code",
   "execution_count": null,
   "id": "21335073",
   "metadata": {},
   "outputs": [],
   "source": [
    "12. What integers represent the levels of headings available in Word documents?"
   ]
  },
  {
   "cell_type": "code",
   "execution_count": null,
   "id": "e0aa3f36",
   "metadata": {},
   "outputs": [],
   "source": [
    "Ans: The levels for a heading in a word document can be specified by using the level attribute inside the add_heading method. \n",
    "    There are a total of 5 levels statring for 0 t0 4. where level 0 makes a headline with the horizontal line below the text, whereas the heading level 1 is the main heading.\n",
    "    Similarly, the other headings are sub-heading with their's font-sizes in decreasing order."
   ]
  }
 ],
 "metadata": {
  "kernelspec": {
   "display_name": "Python 3 (ipykernel)",
   "language": "python",
   "name": "python3"
  },
  "language_info": {
   "codemirror_mode": {
    "name": "ipython",
    "version": 3
   },
   "file_extension": ".py",
   "mimetype": "text/x-python",
   "name": "python",
   "nbconvert_exporter": "python",
   "pygments_lexer": "ipython3",
   "version": "3.9.7"
  }
 },
 "nbformat": 4,
 "nbformat_minor": 5
}
