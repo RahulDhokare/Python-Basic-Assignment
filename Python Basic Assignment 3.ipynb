{
 "cells": [
  {
   "cell_type": "code",
   "execution_count": null,
   "id": "7ae55bec",
   "metadata": {},
   "outputs": [],
   "source": [
    "1. Why are functions advantageous to have in your programs?"
   ]
  },
  {
   "cell_type": "code",
   "execution_count": null,
   "id": "8e48dfbc",
   "metadata": {},
   "outputs": [],
   "source": [
    "ANS:Functions reduce the need for duplicate code. because of their reusuability which makes program shorter, easy to rean and update."
   ]
  },
  {
   "cell_type": "code",
   "execution_count": null,
   "id": "a04b6ec7",
   "metadata": {},
   "outputs": [],
   "source": [
    "2. When does the code in a function run: when its specified or when its called?"
   ]
  },
  {
   "cell_type": "code",
   "execution_count": null,
   "id": "33707a13",
   "metadata": {},
   "outputs": [],
   "source": [
    "Ans:- When a function is called and starts executing the function"
   ]
  },
  {
   "cell_type": "code",
   "execution_count": null,
   "id": "7c17e834",
   "metadata": {},
   "outputs": [],
   "source": [
    "3. What statement creates a function?"
   ]
  },
  {
   "cell_type": "code",
   "execution_count": null,
   "id": "49580f1d",
   "metadata": {},
   "outputs": [],
   "source": [
    "Ans: def function_name(arguments):\n",
    "        return arguments"
   ]
  },
  {
   "cell_type": "code",
   "execution_count": null,
   "id": "913015de",
   "metadata": {},
   "outputs": [],
   "source": [
    "4. What is the difference between a function and a function call?"
   ]
  },
  {
   "cell_type": "code",
   "execution_count": null,
   "id": "36346e3a",
   "metadata": {},
   "outputs": [],
   "source": [
    "ANS: function means a pre-coded task which will only perform if it is called this is where function call comes into picture to achieve the task."
   ]
  },
  {
   "cell_type": "code",
   "execution_count": null,
   "id": "be22bf7b",
   "metadata": {},
   "outputs": [],
   "source": [
    "5. How many global scopes are there in a Python program? How many local scopes?"
   ]
  },
  {
   "cell_type": "code",
   "execution_count": null,
   "id": "54d62ab0",
   "metadata": {},
   "outputs": [],
   "source": [
    "Ans: There is only one global scope per python program and remains there untill program is terminated.\n",
    "there can be as many local scopes as you in side a program because variable crearted inside a function can only be used in that space."
   ]
  },
  {
   "cell_type": "code",
   "execution_count": null,
   "id": "5524d269",
   "metadata": {},
   "outputs": [],
   "source": [
    "6. What happens to variables in a local scope when the function call returns?"
   ]
  },
  {
   "cell_type": "code",
   "execution_count": null,
   "id": "8b838599",
   "metadata": {},
   "outputs": [],
   "source": [
    "Ans:variable in a local space is confined to that space of function can only be used in that function and therefore retains its value untill next time function is called"
   ]
  },
  {
   "cell_type": "code",
   "execution_count": null,
   "id": "1b6beea4",
   "metadata": {},
   "outputs": [],
   "source": [
    "7. What is the concept of a return value? Is it possible to have a return value in an expression?"
   ]
  },
  {
   "cell_type": "code",
   "execution_count": null,
   "id": "fef56225",
   "metadata": {},
   "outputs": [],
   "source": [
    "Ans:It is a special statement in a function used to sent result to caller who called function.\n",
    "yes it is possible to have return value in an expression."
   ]
  },
  {
   "cell_type": "code",
   "execution_count": null,
   "id": "c7c0ca6e",
   "metadata": {},
   "outputs": [],
   "source": [
    "8. If a function does not have a return statement, what is the return value of a call to that function?"
   ]
  },
  {
   "cell_type": "code",
   "execution_count": null,
   "id": "5470a660",
   "metadata": {},
   "outputs": [],
   "source": [
    "Ans:it doesnt return any particular value for example if you want to addition of number it will perform addition but not return the results without return statement."
   ]
  },
  {
   "cell_type": "code",
   "execution_count": null,
   "id": "55cd6242",
   "metadata": {},
   "outputs": [],
   "source": [
    "9. How do you make a function variable refer to the global variable?"
   ]
  },
  {
   "cell_type": "code",
   "execution_count": null,
   "id": "07c40f09",
   "metadata": {},
   "outputs": [],
   "source": [
    "Ans:Global variable is a variable which is not connected to any particular function i.e it is free to be called in any function and also be reused. Therefore to refer a function variable to global variable we use global keyword to declare which variable are global"
   ]
  },
  {
   "cell_type": "code",
   "execution_count": null,
   "id": "0aaa31b7",
   "metadata": {},
   "outputs": [],
   "source": [
    "10. What is the data type of None?"
   ]
  },
  {
   "cell_type": "code",
   "execution_count": 2,
   "id": "1271db9c",
   "metadata": {},
   "outputs": [
    {
     "data": {
      "text/plain": [
       "NoneType"
      ]
     },
     "execution_count": 2,
     "metadata": {},
     "output_type": "execute_result"
    }
   ],
   "source": [
    "type(None) # it is null neither Zero nor any other value"
   ]
  },
  {
   "cell_type": "code",
   "execution_count": null,
   "id": "5db2b768",
   "metadata": {},
   "outputs": [],
   "source": [
    "11. What does the sentence import areallyourpetsnamederic do?"
   ]
  },
  {
   "cell_type": "code",
   "execution_count": null,
   "id": "98fafb49",
   "metadata": {},
   "outputs": [],
   "source": [
    "Ans:it will import areallyourpetnamederic module."
   ]
  },
  {
   "cell_type": "code",
   "execution_count": null,
   "id": "62755fdd",
   "metadata": {},
   "outputs": [],
   "source": [
    "12. If you had a bacon() feature in a spam module, what would you call it after importing spam?"
   ]
  },
  {
   "cell_type": "code",
   "execution_count": null,
   "id": "97791808",
   "metadata": {},
   "outputs": [],
   "source": [
    "Ans:spam.bacon()"
   ]
  },
  {
   "cell_type": "code",
   "execution_count": null,
   "id": "37495d9a",
   "metadata": {},
   "outputs": [],
   "source": [
    "13. What can you do to save a programme from crashing if it encounters an error?"
   ]
  },
  {
   "cell_type": "code",
   "execution_count": null,
   "id": "ecc84016",
   "metadata": {},
   "outputs": [],
   "source": [
    "Ans:I will use try and catch for preventing crash"
   ]
  },
  {
   "cell_type": "code",
   "execution_count": null,
   "id": "3822f873",
   "metadata": {},
   "outputs": [],
   "source": [
    "14. What is the purpose of the try clause? What is the purpose of the except clause?"
   ]
  },
  {
   "cell_type": "code",
   "execution_count": null,
   "id": "f4d67600",
   "metadata": {},
   "outputs": [],
   "source": [
    "Ans:TRY CLAUSE: try clause is used when you think that program can crash so you try to run the program and it crashes it wont disturb other part of program\n",
    "    EXCEPT CLAUSE: except clause is used when you are trying a certain part of program but it fails so it used as a response to exception."
   ]
  }
 ],
 "metadata": {
  "kernelspec": {
   "display_name": "Python 3 (ipykernel)",
   "language": "python",
   "name": "python3"
  },
  "language_info": {
   "codemirror_mode": {
    "name": "ipython",
    "version": 3
   },
   "file_extension": ".py",
   "mimetype": "text/x-python",
   "name": "python",
   "nbconvert_exporter": "python",
   "pygments_lexer": "ipython3",
   "version": "3.9.7"
  }
 },
 "nbformat": 4,
 "nbformat_minor": 5
}
