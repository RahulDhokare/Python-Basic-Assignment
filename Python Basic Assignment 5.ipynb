{
 "cells": [
  {
   "cell_type": "code",
   "execution_count": null,
   "id": "2df7ba9c",
   "metadata": {},
   "outputs": [],
   "source": [
    "1.What does an empty dictionarys code look like?"
   ]
  },
  {
   "cell_type": "code",
   "execution_count": null,
   "id": "28298105",
   "metadata": {},
   "outputs": [],
   "source": [
    "Ans: An empty dictionary is often represented by two empty curly brackets\n",
    "d = {} or d = dict()"
   ]
  },
  {
   "cell_type": "code",
   "execution_count": null,
   "id": "3a9b038c",
   "metadata": {},
   "outputs": [],
   "source": [
    "2.what is the value of dictionary value with key 'foo' and the value 42 ?"
   ]
  },
  {
   "cell_type": "code",
   "execution_count": null,
   "id": "43801bcd",
   "metadata": {},
   "outputs": [],
   "source": [
    "Ans: {'foo':42}"
   ]
  },
  {
   "cell_type": "code",
   "execution_count": null,
   "id": "c753bdfb",
   "metadata": {},
   "outputs": [],
   "source": [
    "3.What is the most significant distinction between a dictionary and a list?"
   ]
  },
  {
   "cell_type": "code",
   "execution_count": null,
   "id": "abe50500",
   "metadata": {},
   "outputs": [],
   "source": [
    "Ans: Dictionaries are represented by {} where as listed are represented by []\n",
    "The Items stored in a dictionary are Unordered , while the items in a list are ordered."
   ]
  },
  {
   "cell_type": "code",
   "execution_count": null,
   "id": "52b8f0c3",
   "metadata": {},
   "outputs": [],
   "source": [
    "4.What happens if you try to access spam ['foo'] if spam is {'bar':100} ?"
   ]
  },
  {
   "cell_type": "code",
   "execution_count": null,
   "id": "ebb66d8e",
   "metadata": {},
   "outputs": [],
   "source": [
    "Ans: we will get a keyError KeyError: 'foo'."
   ]
  },
  {
   "cell_type": "code",
   "execution_count": null,
   "id": "5710bc58",
   "metadata": {},
   "outputs": [],
   "source": [
    "5.if a dictionary is stored in spam,what is the difference between the expressions 'cat' in spam and 'cat' in spam.keys() ?"
   ]
  },
  {
   "cell_type": "code",
   "execution_count": null,
   "id": "e6b31d9c",
   "metadata": {},
   "outputs": [],
   "source": [
    "Ans: There is no difference . The operator checks whether a value exits as a key in the dictionary or not."
   ]
  },
  {
   "cell_type": "code",
   "execution_count": null,
   "id": "1d879c2f",
   "metadata": {},
   "outputs": [],
   "source": [
    "6.if a dictionary is stored in spam,what is the difference between the expressions 'cat' in spam and 'cat' in spam.values() ?"
   ]
  },
  {
   "cell_type": "code",
   "execution_count": null,
   "id": "d8ab5517",
   "metadata": {},
   "outputs": [],
   "source": [
    "Ans:'cat' in spam checks whether there is a 'cat' key in the dictionary, while 'cat' in spam.values() checks whether there is a value 'cat' for one of the keys in spam."
   ]
  },
  {
   "cell_type": "code",
   "execution_count": null,
   "id": "e7322a8a",
   "metadata": {},
   "outputs": [],
   "source": [
    "7.what is a shortcut for the following code ?\n",
    "if 'color' not in spam:\n",
    "    spam['color'] ='black'"
   ]
  },
  {
   "cell_type": "code",
   "execution_count": null,
   "id": "118433a0",
   "metadata": {},
   "outputs": [],
   "source": [
    "Ans: spam.setdefault('color','black')"
   ]
  },
  {
   "cell_type": "code",
   "execution_count": null,
   "id": "eede0dd0",
   "metadata": {},
   "outputs": [],
   "source": [
    "8.How do you 'pretty print' dictionary values using which modules and function ?"
   ]
  },
  {
   "cell_type": "code",
   "execution_count": null,
   "id": "0a7ab9ad",
   "metadata": {},
   "outputs": [],
   "source": [
    "Ans: we can pretty print a dictionary using three functions\n",
    "\n",
    "by using pprint() function of pprint module\n",
    "by using dumps() method of json module\n",
    "by using dumps() method of yaml module"
   ]
  },
  {
   "cell_type": "code",
   "execution_count": 2,
   "id": "c6f048cb",
   "metadata": {},
   "outputs": [
    {
     "name": "stdout",
     "output_type": "stream",
     "text": [
      "Printing using print() function\n",
      " [{'Name': 'test1', 'Age': '23', 'Residence': {'Country': 'USA', 'City': 'New York'}}, {'Name': 'test2', 'Age': '48', 'Residence': {'Country': 'Spain', 'City': 'Madrid'}}, {'Name': 'test3', 'Age': '25', 'Residence': {'Country': 'UK', 'City': 'England'}}, {'Name': 'test4', 'Age': '18', 'Residence': {'Country': 'Japan', 'City': 'Osaka'}}]\n",
      "Printing using pprint() funciton\n",
      "[{'Age': '23',\n",
      "  'Name': 'test1',\n",
      "  'Residence': {'City': 'New York', 'Country': 'USA'}},\n",
      " {'Age': '48',\n",
      "  'Name': 'test2',\n",
      "  'Residence': {'City': 'Madrid', 'Country': 'Spain'}},\n",
      " {'Age': '25',\n",
      "  'Name': 'test3',\n",
      "  'Residence': {'City': 'England', 'Country': 'UK'}},\n",
      " {'Age': '18',\n",
      "  'Name': 'test4',\n",
      "  'Residence': {'City': 'Osaka', 'Country': 'Japan'}}]\n",
      "Printing using dumps() method\n",
      " [\n",
      "    {\n",
      "        \"Name\": \"test1\",\n",
      "        \"Age\": \"23\",\n",
      "        \"Residence\": {\n",
      "            \"Country\": \"USA\",\n",
      "            \"City\": \"New York\"\n",
      "        }\n",
      "    },\n",
      "    {\n",
      "        \"Name\": \"test2\",\n",
      "        \"Age\": \"48\",\n",
      "        \"Residence\": {\n",
      "            \"Country\": \"Spain\",\n",
      "            \"City\": \"Madrid\"\n",
      "        }\n",
      "    },\n",
      "    {\n",
      "        \"Name\": \"test3\",\n",
      "        \"Age\": \"25\",\n",
      "        \"Residence\": {\n",
      "            \"Country\": \"UK\",\n",
      "            \"City\": \"England\"\n",
      "        }\n",
      "    },\n",
      "    {\n",
      "        \"Name\": \"test4\",\n",
      "        \"Age\": \"18\",\n",
      "        \"Residence\": {\n",
      "            \"Country\": \"Japan\",\n",
      "            \"City\": \"Osaka\"\n",
      "        }\n",
      "    }\n",
      "]\n",
      "----------------------------------------------------------------------\n",
      "Printing using dump() method\n",
      " - Age: '23'\n",
      "  Name: test1\n",
      "  Residence:\n",
      "    City: New York\n",
      "    Country: USA\n",
      "- Age: '48'\n",
      "  Name: test2\n",
      "  Residence:\n",
      "    City: Madrid\n",
      "    Country: Spain\n",
      "- Age: '25'\n",
      "  Name: test3\n",
      "  Residence:\n",
      "    City: England\n",
      "    Country: UK\n",
      "- Age: '18'\n",
      "  Name: test4\n",
      "  Residence:\n",
      "    City: Osaka\n",
      "    Country: Japan\n",
      "\n"
     ]
    }
   ],
   "source": [
    "test = [\n",
    "  {'Name': 'test1', 'Age': '23', 'Residence': {'Country':'USA', 'City': 'New York'}},\n",
    "  {'Name': 'test2', 'Age': '48', 'Residence': {'Country':'Spain', 'City': 'Madrid'}},\n",
    "  {'Name': 'test3', 'Age': '25', 'Residence': {'Country':'UK', 'City': 'England'}},\n",
    "  {'Name': 'test4', 'Age': '18', 'Residence': {'Country':'Japan', 'City': 'Osaka'}}\n",
    "]\n",
    "\n",
    "print('Printing using print() function\\n',test)\n",
    "\n",
    "import pprint\n",
    "print('Printing using pprint() funciton')\n",
    "pprint.pprint(test)\n",
    "\n",
    "import json\n",
    "dump = json.dumps(test, indent=4)\n",
    "print('Printing using dumps() method\\n', dump)\n",
    "print('-'*70)\n",
    "import yaml\n",
    "dump = yaml.dump(test)\n",
    "print('Printing using dump() method\\n', dump)"
   ]
  },
  {
   "cell_type": "code",
   "execution_count": null,
   "id": "e377f57e",
   "metadata": {},
   "outputs": [],
   "source": []
  }
 ],
 "metadata": {
  "kernelspec": {
   "display_name": "Python 3 (ipykernel)",
   "language": "python",
   "name": "python3"
  },
  "language_info": {
   "codemirror_mode": {
    "name": "ipython",
    "version": 3
   },
   "file_extension": ".py",
   "mimetype": "text/x-python",
   "name": "python",
   "nbconvert_exporter": "python",
   "pygments_lexer": "ipython3",
   "version": "3.9.7"
  }
 },
 "nbformat": 4,
 "nbformat_minor": 5
}
