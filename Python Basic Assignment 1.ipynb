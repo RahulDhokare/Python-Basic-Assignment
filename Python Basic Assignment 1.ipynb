{
 "cells": [
  {
   "cell_type": "code",
   "execution_count": null,
   "id": "9b012fd9",
   "metadata": {},
   "outputs": [],
   "source": [
    "1. In the below elements which of them are values or an expression? eg:- values can be\n",
    "integer or string and expressions will be mathematical operators.\n",
    "*\n",
    "'hello'\n",
    "-87.8\n",
    "-\n",
    "/\n",
    "+\n",
    "6"
   ]
  },
  {
   "cell_type": "code",
   "execution_count": null,
   "id": "2842f3c1",
   "metadata": {},
   "outputs": [],
   "source": [
    "ans-: values : 'hello',6,-87.8\n",
    "     expressions : * ,- ,/ ,+ "
   ]
  },
  {
   "cell_type": "code",
   "execution_count": null,
   "id": "bc7c543e",
   "metadata": {},
   "outputs": [],
   "source": [
    "2. What is the difference between string and variable?"
   ]
  },
  {
   "cell_type": "code",
   "execution_count": null,
   "id": "d4c04854",
   "metadata": {},
   "outputs": [],
   "source": [
    "ans:- string:  String can be written in quotes.e.g.\"ineuron\",\"data\".\n",
    "      variables : It is the thing in which we can store data just like a container.e.g. x = \"data\""
   ]
  },
  {
   "cell_type": "code",
   "execution_count": null,
   "id": "2c7d859e",
   "metadata": {},
   "outputs": [],
   "source": [
    "3. Describe three different data types."
   ]
  },
  {
   "cell_type": "code",
   "execution_count": null,
   "id": "167819a4",
   "metadata": {},
   "outputs": [],
   "source": [
    "ans:-1.Integer: integer can store only numerical values\n",
    "2.  Float: float can store only floating values such as 44.2,55.2, etc.\n",
    "3.  List: the list is used for storing multiple data items in a single variable."
   ]
  },
  {
   "cell_type": "code",
   "execution_count": null,
   "id": "1fd15415",
   "metadata": {},
   "outputs": [],
   "source": [
    "4. What is an expression made up of? What do all expressions do?"
   ]
  },
  {
   "cell_type": "code",
   "execution_count": null,
   "id": "7e1464fb",
   "metadata": {},
   "outputs": [],
   "source": [
    "ans:- Expression is made up of values, containers, and mathematical operators .expressions are used to evaluate the values or represent the result on the screen.\n",
    "    e.g. a = 4 + 6   "
   ]
  },
  {
   "cell_type": "code",
   "execution_count": null,
   "id": "0ccb4f95",
   "metadata": {},
   "outputs": [],
   "source": [
    "5.This assignment statements, like spam = 10. What is the difference between an expression and a statement?"
   ]
  },
  {
   "cell_type": "code",
   "execution_count": null,
   "id": "a9c2a40c",
   "metadata": {},
   "outputs": [],
   "source": [
    "ans:- Expression is made up of values, containers, and mathematical operators.\n",
    "    Statement is just like a command that a python interpreter executes like print."
   ]
  },
  {
   "cell_type": "code",
   "execution_count": null,
   "id": "ac81e97f",
   "metadata": {},
   "outputs": [],
   "source": [
    "6.After running the following code, what does the variable bacon contain?\n",
    "bacon = 22\n",
    "bacon + 1\n"
   ]
  },
  {
   "cell_type": "code",
   "execution_count": 3,
   "id": "3a4c5fde",
   "metadata": {},
   "outputs": [],
   "source": [
    "ans:-bacon =22"
   ]
  },
  {
   "cell_type": "code",
   "execution_count": 4,
   "id": "bdaad741",
   "metadata": {},
   "outputs": [
    {
     "data": {
      "text/plain": [
       "23"
      ]
     },
     "execution_count": 4,
     "metadata": {},
     "output_type": "execute_result"
    }
   ],
   "source": [
    "bacon +1"
   ]
  },
  {
   "cell_type": "code",
   "execution_count": null,
   "id": "00fcd1f1",
   "metadata": {},
   "outputs": [],
   "source": [
    "variable becon contain 23."
   ]
  },
  {
   "cell_type": "code",
   "execution_count": null,
   "id": "3eefc354",
   "metadata": {},
   "outputs": [],
   "source": [
    "7. What should the values of the following two terms be?\n",
    " 'spam' + 'spamspam'\n",
    "    'spam' * 3"
   ]
  },
  {
   "cell_type": "code",
   "execution_count": 7,
   "id": "d87c7998",
   "metadata": {},
   "outputs": [
    {
     "data": {
      "text/plain": [
       "'spamspamspam'"
      ]
     },
     "execution_count": 7,
     "metadata": {},
     "output_type": "execute_result"
    }
   ],
   "source": [
    "'spam' +'spamspam'"
   ]
  },
  {
   "cell_type": "code",
   "execution_count": 8,
   "id": "8dbdc83c",
   "metadata": {},
   "outputs": [
    {
     "data": {
      "text/plain": [
       "'spamspamspam'"
      ]
     },
     "execution_count": 8,
     "metadata": {},
     "output_type": "execute_result"
    }
   ],
   "source": [
    "'spam' *3"
   ]
  },
  {
   "cell_type": "code",
   "execution_count": null,
   "id": "93fdabe1",
   "metadata": {},
   "outputs": [],
   "source": [
    "IT will be same."
   ]
  },
  {
   "cell_type": "code",
   "execution_count": null,
   "id": "b3e507db",
   "metadata": {},
   "outputs": [],
   "source": [
    "8. Why is eggs a valid variable name while 100 is invalid?"
   ]
  },
  {
   "cell_type": "code",
   "execution_count": null,
   "id": "e92a659c",
   "metadata": {},
   "outputs": [],
   "source": [
    "ans:-  Because variable names cannot begin with a number.but we can begain with  a string-like alphabet name then integer. e100 or eggs100 is valid"
   ]
  },
  {
   "cell_type": "code",
   "execution_count": null,
   "id": "024a159a",
   "metadata": {},
   "outputs": [],
   "source": [
    "9. What three functions can be used to get the integer, floating-point number, or string version of a value?"
   ]
  },
  {
   "cell_type": "code",
   "execution_count": null,
   "id": "f8d0529a",
   "metadata": {},
   "outputs": [],
   "source": [
    "ans:-str(), int(), float()."
   ]
  },
  {
   "cell_type": "code",
   "execution_count": null,
   "id": "76f61b4c",
   "metadata": {},
   "outputs": [],
   "source": [
    "10. Why does this expression cause an error? How can you fix it?\n",
    "'I have eaten' + 99 + 'burritos' "
   ]
  },
  {
   "cell_type": "code",
   "execution_count": null,
   "id": "91776414",
   "metadata": {},
   "outputs": [],
   "source": [
    "ans:-This expression causes and error because in this line 'I have eaten' and 'burritos' are strings, while 99 is treated as integer.\n",
    "    as integer it cannot be concatenated with strings.\n",
    "    TO fix it we have to do a typecasting."
   ]
  }
 ],
 "metadata": {
  "kernelspec": {
   "display_name": "Python 3 (ipykernel)",
   "language": "python",
   "name": "python3"
  },
  "language_info": {
   "codemirror_mode": {
    "name": "ipython",
    "version": 3
   },
   "file_extension": ".py",
   "mimetype": "text/x-python",
   "name": "python",
   "nbconvert_exporter": "python",
   "pygments_lexer": "ipython3",
   "version": "3.9.7"
  }
 },
 "nbformat": 4,
 "nbformat_minor": 5
}
