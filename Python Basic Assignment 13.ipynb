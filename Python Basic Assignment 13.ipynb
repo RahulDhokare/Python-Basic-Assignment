{
 "cells": [
  {
   "cell_type": "code",
   "execution_count": null,
   "id": "4ebe33dd",
   "metadata": {},
   "outputs": [],
   "source": [
    "1. What advantages do Excel spreadsheets have over CSV spreadsheets?"
   ]
  },
  {
   "cell_type": "code",
   "execution_count": null,
   "id": "a884785b",
   "metadata": {},
   "outputs": [],
   "source": [
    "Ans: The Advantages of Excel over CSV are:\n",
    "\n",
    "Excel (XLS and XLSX) file formats are better for storing and analysing complex data.\n",
    "An Excel not only stores data but can also do operations on the data using macros, formulas etc\n",
    "CSV files are plain-text files, Does not contain formatting, formulas, macros, etc. It is also known as flat files"
   ]
  },
  {
   "cell_type": "code",
   "execution_count": null,
   "id": "46efa623",
   "metadata": {},
   "outputs": [],
   "source": [
    "2.What do you pass to csv.reader() and csv.writer() to create reader and writer objects?"
   ]
  },
  {
   "cell_type": "code",
   "execution_count": null,
   "id": "3f3fb6dc",
   "metadata": {},
   "outputs": [],
   "source": [
    "import csv\n",
    "In csv.reader() we pass file and dialect.\n",
    "In csv.writer() we pass fileobj and dialect."
   ]
  },
  {
   "cell_type": "code",
   "execution_count": null,
   "id": "9b14119e",
   "metadata": {},
   "outputs": [],
   "source": [
    "3. What modes do File objects for reader and writer objects need to be opened in?"
   ]
  },
  {
   "cell_type": "code",
   "execution_count": null,
   "id": "c303f60e",
   "metadata": {},
   "outputs": [],
   "source": [
    "ans:for reader object we open file in read mode 'r'\n",
    "    and for writer object we open file in write mode 'w'."
   ]
  },
  {
   "cell_type": "code",
   "execution_count": null,
   "id": "55dc6137",
   "metadata": {},
   "outputs": [],
   "source": [
    "4. What method takes a list argument and writes it to a CSV file?"
   ]
  },
  {
   "cell_type": "code",
   "execution_count": null,
   "id": "cfe63830",
   "metadata": {},
   "outputs": [],
   "source": [
    "ans:use writerow() method for list argument in csv file."
   ]
  },
  {
   "cell_type": "code",
   "execution_count": null,
   "id": "e0c15482",
   "metadata": {},
   "outputs": [],
   "source": [
    "5. What do the keyword arguments delimiter and line terminator do?"
   ]
  },
  {
   "cell_type": "code",
   "execution_count": null,
   "id": "7469fb99",
   "metadata": {},
   "outputs": [],
   "source": [
    "firstname, lastname, age\n",
    "rushikesh, pokale, 22\n",
    "manish, pokale, 25\n",
    "\n",
    "here ',' is delimiter we can use any character as per our needs.\n",
    "line terminator comes at end of line by default it is newline and can be changed accourding to requirement."
   ]
  },
  {
   "cell_type": "code",
   "execution_count": null,
   "id": "55972d91",
   "metadata": {},
   "outputs": [],
   "source": [
    "6. What function takes a string of JSON data and returns a Python data structure?"
   ]
  },
  {
   "cell_type": "code",
   "execution_count": null,
   "id": "15be979d",
   "metadata": {},
   "outputs": [],
   "source": [
    "ans: dumps() function convert json data into python data structure. "
   ]
  },
  {
   "cell_type": "code",
   "execution_count": null,
   "id": "e52ef97c",
   "metadata": {},
   "outputs": [],
   "source": [
    "7. What function takes a Python data structure and returns a string of JSON data?"
   ]
  },
  {
   "cell_type": "code",
   "execution_count": null,
   "id": "ea3e5472",
   "metadata": {},
   "outputs": [],
   "source": [
    "ans:loads() function converts python data structure and returns a string of json data."
   ]
  },
  {
   "cell_type": "code",
   "execution_count": null,
   "id": "b86c1c79",
   "metadata": {},
   "outputs": [],
   "source": []
  }
 ],
 "metadata": {
  "kernelspec": {
   "display_name": "Python 3 (ipykernel)",
   "language": "python",
   "name": "python3"
  },
  "language_info": {
   "codemirror_mode": {
    "name": "ipython",
    "version": 3
   },
   "file_extension": ".py",
   "mimetype": "text/x-python",
   "name": "python",
   "nbconvert_exporter": "python",
   "pygments_lexer": "ipython3",
   "version": "3.9.7"
  }
 },
 "nbformat": 4,
 "nbformat_minor": 5
}
